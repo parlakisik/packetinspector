{
  "cells": [
    {
      "cell_type": "markdown",
      "metadata": {
        "id": "My8X--Kc58jk"
      },
      "source": []
    },
    {
      "cell_type": "code",
      "execution_count": 1,
      "metadata": {
        "id": "Kb15_rbV58jm",
        "outputId": "78caeef8-832c-4df6-81a5-d9574379847a",
        "colab": {
          "base_uri": "https://localhost:8080/"
        }
      },
      "outputs": [
        {
          "output_type": "stream",
          "name": "stdout",
          "text": [
            "ls: cannot access 'train_files': No such file or directory\n"
          ]
        }
      ],
      "source": [
        "ls train_files"
      ]
    }
  ],
  "metadata": {
    "language_info": {
      "name": "python"
    },
    "colab": {
      "provenance": []
    },
    "kernelspec": {
      "name": "python3",
      "display_name": "Python 3"
    }
  },
  "nbformat": 4,
  "nbformat_minor": 0
}